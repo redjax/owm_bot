{
 "cells": [
  {
   "cell_type": "code",
   "execution_count": null,
   "metadata": {},
   "outputs": [],
   "source": [
    "## Set notebook to auto reload updated modules\n",
    "%load_ext autoreload\n",
    "%autoreload 2"
   ]
  },
  {
   "cell_type": "code",
   "execution_count": null,
   "metadata": {},
   "outputs": [],
   "source": [
    "%env ENV_FOR_DYNACONF=dev"
   ]
  },
  {
   "cell_type": "code",
   "execution_count": null,
   "metadata": {},
   "outputs": [],
   "source": [
    "from owm_bot.core.config import (\n",
    "    AppSettings,\n",
    "    settings,\n",
    "    OpenweathermapSettings,\n",
    "    owm_settings,\n",
    ")"
   ]
  },
  {
   "cell_type": "code",
   "execution_count": null,
   "metadata": {},
   "outputs": [],
   "source": [
    "LOGGING_LEVEL = settings.log_level"
   ]
  },
  {
   "cell_type": "code",
   "execution_count": null,
   "metadata": {},
   "outputs": [],
   "source": [
    "import typing\n",
    "from pathlib import Path\n",
    "import json\n",
    "import random\n",
    "\n",
    "import logging\n",
    "import logging.config"
   ]
  },
  {
   "cell_type": "code",
   "execution_count": null,
   "metadata": {},
   "outputs": [],
   "source": [
    "import red_logging\n",
    "\n",
    "_formatter = red_logging.get_formatter_config(\n",
    "    name=\"nb\",\n",
    "    fmt=\"%(asctime)s | %(levelname)s | %(message)s\",\n",
    "    datefmt=red_logging.fmts.DATE_FMT_DATE_ONLY,\n",
    ")\n",
    "console_handler = red_logging.get_streamhandler_config(\n",
    "    name=\"console\", formatter=\"nb\", level=\"WARNING\"\n",
    ")\n",
    "_handler = red_logging.get_streamhandler_config(\n",
    "    name=\"console_nb\", formatter=\"nb\", level=\"DEBUG\"\n",
    ")\n",
    "_logger = red_logging.get_logger_config(\n",
    "    name=\"nb\", handlers=[\"console_nb\"], level=LOGGING_LEVEL\n",
    ")"
   ]
  },
  {
   "cell_type": "code",
   "execution_count": null,
   "metadata": {},
   "outputs": [],
   "source": [
    "logging_config = red_logging.assemble_configdict(\n",
    "    disable_existing_loggers=True,\n",
    "    formatters=[_formatter],\n",
    "    handlers=[_handler, console_handler],\n",
    "    loggers=[_logger],\n",
    ")"
   ]
  },
  {
   "cell_type": "code",
   "execution_count": null,
   "metadata": {},
   "outputs": [],
   "source": [
    "logging.config.dictConfig(logging_config)\n",
    "log = logging.getLogger(\"nb\")"
   ]
  },
  {
   "cell_type": "code",
   "execution_count": null,
   "metadata": {},
   "outputs": [],
   "source": [
    "from owm_bot.core import (\n",
    "    DATA_DIR,\n",
    "    CACHE_DIR,\n",
    "    SERIALIZE_DIR,\n",
    "    PQ_DIR,\n",
    "    ENSURE_DIRS,\n",
    "    OUTPUT_DIR,\n",
    ")\n",
    "from owm_bot.core import (\n",
    "    PQ_ENGINE,\n",
    "    OPENWEATHERMAP_BASE_URL,\n",
    "    OPENWEATHERMAP_ONECALL_URL,\n",
    "    OPENWEATHERMAP_GEO_URL,\n",
    ")\n",
    "from owm_bot.setup import setup_dirs\n",
    "from owm_bot.domain.Location import (\n",
    "    JsonLocation,\n",
    "    JsonLocationsLoader,\n",
    "    OwmGeoLookup,\n",
    ")\n",
    "\n",
    "from owm_bot.domain.Weather.current import OWMCurrentWeather\n",
    "from owm_bot.domain.Weather.forecast import (\n",
    "    OWMForecastWeather,\n",
    "    OWMForecastWeatherEntry,\n",
    ")\n",
    "from owm_bot.utils import data_utils\n",
    "from owm_bot.controllers import OpenWeathermapController\n",
    "from owm_bot.weather import (\n",
    "    CurrentWeatherPQFileController,\n",
    "    ForecastWeatherPQFileController,\n",
    ")"
   ]
  },
  {
   "cell_type": "code",
   "execution_count": null,
   "metadata": {},
   "outputs": [],
   "source": [
    "import pandas as pd\n",
    "from red_utils.ext.dataframe_utils import pandas_utils\n",
    "\n",
    "pd.set_option(\"display.max_columns\", None)"
   ]
  },
  {
   "cell_type": "code",
   "execution_count": null,
   "metadata": {},
   "outputs": [],
   "source": [
    "setup_dirs(ensure_dirs=ENSURE_DIRS)"
   ]
  },
  {
   "cell_type": "code",
   "execution_count": null,
   "metadata": {},
   "outputs": [],
   "source": [
    "GET_WEATHER: bool = False"
   ]
  },
  {
   "cell_type": "markdown",
   "metadata": {},
   "source": [
    "---"
   ]
  },
  {
   "cell_type": "code",
   "execution_count": null,
   "metadata": {},
   "outputs": [],
   "source": [
    "if GET_WEATHER:\n",
    "    with OpenWeathermapController(units=owm_settings.units) as owm_ctl:\n",
    "        current_weather: OWMCurrentWeather = owm_ctl.current_weather(save_pq=True)\n",
    "        # log.debug(f\"Current weather: {current_weather}\")\n",
    "        log.info(\"Refreshed current weather\")\n",
    "\n",
    "        weather_forecast: OWMForecastWeather = owm_ctl.weather_forecast(save_pq=True)\n",
    "        # log.debug(f\"Weather forecast: {weather_forecast}\")\n",
    "        log.info(\"Refreshed weather forecast\")"
   ]
  },
  {
   "cell_type": "code",
   "execution_count": null,
   "metadata": {},
   "outputs": [],
   "source": [
    "with CurrentWeatherPQFileController() as currentweather_ctl:\n",
    "    current_weather_df = currentweather_ctl.df"
   ]
  },
  {
   "cell_type": "code",
   "execution_count": null,
   "metadata": {},
   "outputs": [],
   "source": [
    "current_weather_df.head(5)"
   ]
  },
  {
   "cell_type": "code",
   "execution_count": null,
   "metadata": {},
   "outputs": [],
   "source": [
    "with ForecastWeatherPQFileController() as weatherforecast_ctl:\n",
    "    weather_forecast_df = weatherforecast_ctl.df"
   ]
  },
  {
   "cell_type": "code",
   "execution_count": null,
   "metadata": {},
   "outputs": [],
   "source": [
    "weather_forecast_df.head(5)"
   ]
  }
 ],
 "metadata": {
  "kernelspec": {
   "display_name": ".venv",
   "language": "python",
   "name": "python3"
  },
  "language_info": {
   "codemirror_mode": {
    "name": "ipython",
    "version": 3
   },
   "file_extension": ".py",
   "mimetype": "text/x-python",
   "name": "python",
   "nbconvert_exporter": "python",
   "pygments_lexer": "ipython3",
   "version": "3.11.4"
  }
 },
 "nbformat": 4,
 "nbformat_minor": 2
}
