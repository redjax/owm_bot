{
 "cells": [
  {
   "cell_type": "code",
   "execution_count": 1,
   "metadata": {},
   "outputs": [],
   "source": [
    "## Set notebook to auto reload updated modules\n",
    "%load_ext autoreload\n",
    "%autoreload 2"
   ]
  },
  {
   "cell_type": "code",
   "execution_count": 2,
   "metadata": {},
   "outputs": [
    {
     "name": "stdout",
     "output_type": "stream",
     "text": [
      "env: ENV_FOR_DYNACONF=dev\n"
     ]
    }
   ],
   "source": [
    "%env ENV_FOR_DYNACONF=dev"
   ]
  },
  {
   "cell_type": "code",
   "execution_count": 19,
   "metadata": {},
   "outputs": [],
   "source": [
    "from owm_bot.core.config import (\n",
    "    AppSettings,\n",
    "    settings,\n",
    "    OpenweathermapSettings,\n",
    "    owm_settings,\n",
    ")"
   ]
  },
  {
   "cell_type": "code",
   "execution_count": 4,
   "metadata": {},
   "outputs": [],
   "source": [
    "LOGGING_LEVEL = settings.log_level"
   ]
  },
  {
   "cell_type": "code",
   "execution_count": 5,
   "metadata": {},
   "outputs": [],
   "source": [
    "import typing\n",
    "from pathlib import Path\n",
    "import json\n",
    "import random\n",
    "\n",
    "import logging\n",
    "import logging.config"
   ]
  },
  {
   "cell_type": "code",
   "execution_count": 6,
   "metadata": {},
   "outputs": [],
   "source": [
    "import red_logging\n",
    "\n",
    "_formatter = red_logging.get_formatter_config(\n",
    "    name=\"nb\",\n",
    "    fmt=\"%(asctime)s | %(levelname)s | %(message)s\",\n",
    "    datefmt=red_logging.fmts.DATE_FMT_DATE_ONLY,\n",
    ")\n",
    "console_handler = red_logging.get_streamhandler_config(\n",
    "    name=\"console\", formatter=\"nb\", level=\"WARNING\"\n",
    ")\n",
    "_handler = red_logging.get_streamhandler_config(\n",
    "    name=\"console_nb\", formatter=\"nb\", level=\"DEBUG\"\n",
    ")\n",
    "_logger = red_logging.get_logger_config(\n",
    "    name=\"nb\", handlers=[\"console_nb\"], level=LOGGING_LEVEL\n",
    ")"
   ]
  },
  {
   "cell_type": "code",
   "execution_count": 7,
   "metadata": {},
   "outputs": [],
   "source": [
    "logging_config = red_logging.assemble_configdict(\n",
    "    disable_existing_loggers=True,\n",
    "    formatters=[_formatter],\n",
    "    handlers=[_handler, console_handler],\n",
    "    loggers=[_logger],\n",
    ")"
   ]
  },
  {
   "cell_type": "code",
   "execution_count": 8,
   "metadata": {},
   "outputs": [],
   "source": [
    "logging.config.dictConfig(logging_config)\n",
    "log = logging.getLogger(\"nb\")"
   ]
  },
  {
   "cell_type": "code",
   "execution_count": 13,
   "metadata": {},
   "outputs": [],
   "source": [
    "from owm_bot.core import (\n",
    "    DATA_DIR,\n",
    "    CACHE_DIR,\n",
    "    SERIALIZE_DIR,\n",
    "    PQ_DIR,\n",
    "    ENSURE_DIRS,\n",
    "    OUTPUT_DIR,\n",
    ")\n",
    "from owm_bot.core import (\n",
    "    PQ_ENGINE,\n",
    "    OPENWEATHERMAP_BASE_URL,\n",
    "    OPENWEATHERMAP_ONECALL_URL,\n",
    "    OPENWEATHERMAP_GEO_URL,\n",
    ")\n",
    "from owm_bot.setup import setup_dirs\n",
    "from owm_bot.domain.Location import (\n",
    "    JsonLocation,\n",
    "    JsonLocationsLoader,\n",
    "    OwmGeoLookup,\n",
    ")\n",
    "\n",
    "from owm_bot.domain.Weather.current import OWMCurrentWeather\n",
    "from owm_bot.domain.Weather.forecast import (\n",
    "    OWMForecastWeather,\n",
    "    OWMForecastWeatherEntry,\n",
    ")\n",
    "from owm_bot.utils import data_utils\n",
    "from owm_bot.controllers import OpenWeathermapController\n",
    "from owm_bot.weather import (\n",
    "    CurrentWeatherPQFileController,\n",
    "    ForecastWeatherPQFileController,\n",
    ")"
   ]
  },
  {
   "cell_type": "code",
   "execution_count": 12,
   "metadata": {},
   "outputs": [],
   "source": [
    "import pandas as pd\n",
    "from red_utils.ext.dataframe_utils import pandas_utils\n",
    "\n",
    "pd.set_option(\"display.max_columns\", None)"
   ]
  },
  {
   "cell_type": "code",
   "execution_count": 11,
   "metadata": {},
   "outputs": [],
   "source": [
    "setup_dirs(ensure_dirs=ENSURE_DIRS)"
   ]
  },
  {
   "cell_type": "code",
   "execution_count": 18,
   "metadata": {},
   "outputs": [],
   "source": [
    "GET_WEATHER: bool = False"
   ]
  },
  {
   "cell_type": "markdown",
   "metadata": {},
   "source": [
    "---"
   ]
  },
  {
   "cell_type": "code",
   "execution_count": 25,
   "metadata": {},
   "outputs": [
    {
     "name": "stdout",
     "output_type": "stream",
     "text": [
      "2024-06-09 | INFO | Refreshed current weather\n",
      "2024-06-09 | INFO | Refreshed weather forecast\n"
     ]
    }
   ],
   "source": [
    "if GET_WEATHER:\n",
    "    with OpenWeathermapController(units=owm_settings.units) as owm_ctl:\n",
    "        current_weather: OWMCurrentWeather = owm_ctl.current_weather(save_pq=True)\n",
    "        # log.debug(f\"Current weather: {current_weather}\")\n",
    "        log.info(\"Refreshed current weather\")\n",
    "\n",
    "        weather_forecast: OWMForecastWeather = owm_ctl.weather_forecast(save_pq=True)\n",
    "        # log.debug(f\"Weather forecast: {weather_forecast}\")\n",
    "        log.info(\"Refreshed weather forecast\")"
   ]
  },
  {
   "cell_type": "code",
   "execution_count": 26,
   "metadata": {},
   "outputs": [],
   "source": [
    "with CurrentWeatherPQFileController() as currentweather_ctl:\n",
    "    current_weather_df = currentweather_ctl.df"
   ]
  },
  {
   "cell_type": "code",
   "execution_count": 27,
   "metadata": {},
   "outputs": [
    {
     "data": {
      "text/html": [
       "<div>\n",
       "<style scoped>\n",
       "    .dataframe tbody tr th:only-of-type {\n",
       "        vertical-align: middle;\n",
       "    }\n",
       "\n",
       "    .dataframe tbody tr th {\n",
       "        vertical-align: top;\n",
       "    }\n",
       "\n",
       "    .dataframe thead th {\n",
       "        text-align: right;\n",
       "    }\n",
       "</style>\n",
       "<table border=\"1\" class=\"dataframe\">\n",
       "  <thead>\n",
       "    <tr style=\"text-align: right;\">\n",
       "      <th></th>\n",
       "      <th>coord</th>\n",
       "      <th>weather</th>\n",
       "      <th>base</th>\n",
       "      <th>main</th>\n",
       "      <th>visibility</th>\n",
       "      <th>wind</th>\n",
       "      <th>rain</th>\n",
       "      <th>clouds</th>\n",
       "      <th>sys</th>\n",
       "      <th>timezone</th>\n",
       "      <th>id</th>\n",
       "      <th>name</th>\n",
       "      <th>cod</th>\n",
       "      <th>timestamp</th>\n",
       "    </tr>\n",
       "  </thead>\n",
       "  <tbody>\n",
       "    <tr>\n",
       "      <th>0</th>\n",
       "      <td>{'lat': 41.3826, 'lon': -81.7964}</td>\n",
       "      <td>[{'description': 'overcast clouds', 'icon': '0...</td>\n",
       "      <td>stations</td>\n",
       "      <td>{'feels_like': 65.14, 'humidity': 61, 'pressur...</td>\n",
       "      <td>10000</td>\n",
       "      <td>{'deg': 20, 'gust': None, 'speed': 11.5}</td>\n",
       "      <td>None</td>\n",
       "      <td>{'all': 100}</td>\n",
       "      <td>{'country': 'US', 'id': 2007582, 'sunrise': 17...</td>\n",
       "      <td>-14400</td>\n",
       "      <td>5148326</td>\n",
       "      <td>Brook Park</td>\n",
       "      <td>200</td>\n",
       "      <td>2024-06-09 22:06:36</td>\n",
       "    </tr>\n",
       "    <tr>\n",
       "      <th>0</th>\n",
       "      <td>{'lat': 41.3826, 'lon': -81.7964}</td>\n",
       "      <td>[{'description': 'overcast clouds', 'icon': '0...</td>\n",
       "      <td>stations</td>\n",
       "      <td>{'feels_like': 65.14, 'humidity': 61, 'pressur...</td>\n",
       "      <td>10000</td>\n",
       "      <td>{'deg': 20, 'gust': None, 'speed': 11.5}</td>\n",
       "      <td>None</td>\n",
       "      <td>{'all': 100}</td>\n",
       "      <td>{'country': 'US', 'id': 2007582, 'sunrise': 17...</td>\n",
       "      <td>-14400</td>\n",
       "      <td>5148326</td>\n",
       "      <td>Brook Park</td>\n",
       "      <td>200</td>\n",
       "      <td>2024-06-09 22:06:51</td>\n",
       "    </tr>\n",
       "  </tbody>\n",
       "</table>\n",
       "</div>"
      ],
      "text/plain": [
       "                               coord  \\\n",
       "0  {'lat': 41.3826, 'lon': -81.7964}   \n",
       "0  {'lat': 41.3826, 'lon': -81.7964}   \n",
       "\n",
       "                                             weather      base  \\\n",
       "0  [{'description': 'overcast clouds', 'icon': '0...  stations   \n",
       "0  [{'description': 'overcast clouds', 'icon': '0...  stations   \n",
       "\n",
       "                                                main  visibility  \\\n",
       "0  {'feels_like': 65.14, 'humidity': 61, 'pressur...       10000   \n",
       "0  {'feels_like': 65.14, 'humidity': 61, 'pressur...       10000   \n",
       "\n",
       "                                       wind  rain        clouds  \\\n",
       "0  {'deg': 20, 'gust': None, 'speed': 11.5}  None  {'all': 100}   \n",
       "0  {'deg': 20, 'gust': None, 'speed': 11.5}  None  {'all': 100}   \n",
       "\n",
       "                                                 sys  timezone       id  \\\n",
       "0  {'country': 'US', 'id': 2007582, 'sunrise': 17...    -14400  5148326   \n",
       "0  {'country': 'US', 'id': 2007582, 'sunrise': 17...    -14400  5148326   \n",
       "\n",
       "         name  cod            timestamp  \n",
       "0  Brook Park  200  2024-06-09 22:06:36  \n",
       "0  Brook Park  200  2024-06-09 22:06:51  "
      ]
     },
     "execution_count": 27,
     "metadata": {},
     "output_type": "execute_result"
    }
   ],
   "source": [
    "current_weather_df.head(5)"
   ]
  },
  {
   "cell_type": "code",
   "execution_count": 28,
   "metadata": {},
   "outputs": [],
   "source": [
    "with ForecastWeatherPQFileController() as weatherforecast_ctl:\n",
    "    weather_forecast_df = weatherforecast_ctl.df"
   ]
  },
  {
   "cell_type": "code",
   "execution_count": 29,
   "metadata": {},
   "outputs": [
    {
     "data": {
      "text/html": [
       "<div>\n",
       "<style scoped>\n",
       "    .dataframe tbody tr th:only-of-type {\n",
       "        vertical-align: middle;\n",
       "    }\n",
       "\n",
       "    .dataframe tbody tr th {\n",
       "        vertical-align: top;\n",
       "    }\n",
       "\n",
       "    .dataframe thead th {\n",
       "        text-align: right;\n",
       "    }\n",
       "</style>\n",
       "<table border=\"1\" class=\"dataframe\">\n",
       "  <thead>\n",
       "    <tr style=\"text-align: right;\">\n",
       "      <th></th>\n",
       "      <th>cod</th>\n",
       "      <th>message</th>\n",
       "      <th>cnt</th>\n",
       "      <th>entries</th>\n",
       "    </tr>\n",
       "  </thead>\n",
       "  <tbody>\n",
       "    <tr>\n",
       "      <th>0</th>\n",
       "      <td>200</td>\n",
       "      <td>0</td>\n",
       "      <td>16</td>\n",
       "      <td>[{'clouds': {'all': 100}, 'dt': 1717988400, 'd...</td>\n",
       "    </tr>\n",
       "    <tr>\n",
       "      <th>0</th>\n",
       "      <td>200</td>\n",
       "      <td>0</td>\n",
       "      <td>16</td>\n",
       "      <td>[{'clouds': {'all': 100}, 'dt': 1717988400, 'd...</td>\n",
       "    </tr>\n",
       "  </tbody>\n",
       "</table>\n",
       "</div>"
      ],
      "text/plain": [
       "   cod  message  cnt                                            entries\n",
       "0  200        0   16  [{'clouds': {'all': 100}, 'dt': 1717988400, 'd...\n",
       "0  200        0   16  [{'clouds': {'all': 100}, 'dt': 1717988400, 'd..."
      ]
     },
     "execution_count": 29,
     "metadata": {},
     "output_type": "execute_result"
    }
   ],
   "source": [
    "weather_forecast_df.head(5)"
   ]
  }
 ],
 "metadata": {
  "kernelspec": {
   "display_name": ".venv",
   "language": "python",
   "name": "python3"
  },
  "language_info": {
   "codemirror_mode": {
    "name": "ipython",
    "version": 3
   },
   "file_extension": ".py",
   "mimetype": "text/x-python",
   "name": "python",
   "nbconvert_exporter": "python",
   "pygments_lexer": "ipython3",
   "version": "3.11.4"
  }
 },
 "nbformat": 4,
 "nbformat_minor": 2
}
